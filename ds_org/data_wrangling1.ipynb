{
 "cells": [
  {
   "cell_type": "code",
   "execution_count": 1,
   "id": "14d6c153-fcb6-4861-9d98-9484bfba5ed8",
   "metadata": {},
   "outputs": [],
   "source": [
    "import pandas as pd\n",
    "import numpy as np\n",
    "import seaborn as sns\n",
    "import matplotlib.pyplot as plt"
   ]
  },
  {
   "cell_type": "code",
   "execution_count": 3,
   "id": "26fe2d23-4123-42e3-a5bd-707d710caf4d",
   "metadata": {},
   "outputs": [],
   "source": [
    "data = pd.read_csv('titanic.csv')"
   ]
  },
  {
   "cell_type": "code",
   "execution_count": 5,
   "id": "b6339b95-d538-438c-b3aa-706f7a80276f",
   "metadata": {},
   "outputs": [
    {
     "name": "stdout",
     "output_type": "stream",
     "text": [
      "     PassengerId  Survived  Pclass  \\\n",
      "339          340         0       1   \n",
      "328          329         1       3   \n",
      "291          292         1       1   \n",
      "503          504         0       3   \n",
      "136          137         1       1   \n",
      "\n",
      "                                               Name     Sex   Age  SibSp  \\\n",
      "339                    Blackwell, Mr. Stephen Weart    male  45.0      0   \n",
      "328  Goldsmith, Mrs. Frank John (Emily Alice Brown)  female  31.0      1   \n",
      "291         Bishop, Mrs. Dickinson H (Helen Walton)  female  19.0      1   \n",
      "503                  Laitinen, Miss. Kristina Sofia  female  37.0      0   \n",
      "136                    Newsom, Miss. Helen Monypeny  female  19.0      0   \n",
      "\n",
      "     Parch  Ticket     Fare Cabin Embarked  \n",
      "339      0  113784  35.5000     T        S  \n",
      "328      1  363291  20.5250   NaN        S  \n",
      "291      0   11967  91.0792   B49        C  \n",
      "503      0    4135   9.5875   NaN        S  \n",
      "136      2   11752  26.2833   D47        S  \n"
     ]
    }
   ],
   "source": [
    "print(data.sample(5))"
   ]
  },
  {
   "cell_type": "code",
   "execution_count": 7,
   "id": "33d7acde-1dfa-43af-97bd-8a3d3144f288",
   "metadata": {},
   "outputs": [
    {
     "name": "stdout",
     "output_type": "stream",
     "text": [
      "\n",
      "Missing Values:\n",
      " PassengerId      0\n",
      "Survived         0\n",
      "Pclass           0\n",
      "Name             0\n",
      "Sex              0\n",
      "Age            177\n",
      "SibSp            0\n",
      "Parch            0\n",
      "Ticket           0\n",
      "Fare             0\n",
      "Cabin          687\n",
      "Embarked         2\n",
      "dtype: int64\n"
     ]
    }
   ],
   "source": [
    "print(\"\\nMissing Values:\\n\", data.isnull().sum())"
   ]
  },
  {
   "cell_type": "code",
   "execution_count": 9,
   "id": "d3b348e4-7120-40b9-ac27-c96dd8925160",
   "metadata": {},
   "outputs": [
    {
     "name": "stdout",
     "output_type": "stream",
     "text": [
      "\n",
      "Descriptive Statistics:\n",
      "        PassengerId    Survived      Pclass         Age       SibSp  \\\n",
      "count   891.000000  891.000000  891.000000  714.000000  891.000000   \n",
      "mean    446.000000    0.383838    2.308642   29.699118    0.523008   \n",
      "std     257.353842    0.486592    0.836071   14.526497    1.102743   \n",
      "min       1.000000    0.000000    1.000000    0.420000    0.000000   \n",
      "25%     223.500000    0.000000    2.000000   20.125000    0.000000   \n",
      "50%     446.000000    0.000000    3.000000   28.000000    0.000000   \n",
      "75%     668.500000    1.000000    3.000000   38.000000    1.000000   \n",
      "max     891.000000    1.000000    3.000000   80.000000    8.000000   \n",
      "\n",
      "            Parch        Fare  \n",
      "count  891.000000  891.000000  \n",
      "mean     0.381594   32.204208  \n",
      "std      0.806057   49.693429  \n",
      "min      0.000000    0.000000  \n",
      "25%      0.000000    7.910400  \n",
      "50%      0.000000   14.454200  \n",
      "75%      0.000000   31.000000  \n",
      "max      6.000000  512.329200  \n"
     ]
    }
   ],
   "source": [
    "print(\"\\nDescriptive Statistics:\\n\", data.describe())"
   ]
  },
  {
   "cell_type": "code",
   "execution_count": 11,
   "id": "a3ec8a9e-8726-493d-858d-018c0eb59618",
   "metadata": {},
   "outputs": [
    {
     "name": "stdout",
     "output_type": "stream",
     "text": [
      "\n",
      "Shape of the Dataset: (891, 12)\n"
     ]
    }
   ],
   "source": [
    "print(\"\\nShape of the Dataset:\", data.shape)"
   ]
  },
  {
   "cell_type": "code",
   "execution_count": 13,
   "id": "59f54ba0-6742-42b9-bcbd-370e9a076e62",
   "metadata": {},
   "outputs": [
    {
     "name": "stdout",
     "output_type": "stream",
     "text": [
      "\n",
      "Dataset Info:\n",
      "\n",
      "<class 'pandas.core.frame.DataFrame'>\n",
      "RangeIndex: 891 entries, 0 to 890\n",
      "Data columns (total 12 columns):\n",
      " #   Column       Non-Null Count  Dtype  \n",
      "---  ------       --------------  -----  \n",
      " 0   PassengerId  891 non-null    int64  \n",
      " 1   Survived     891 non-null    int64  \n",
      " 2   Pclass       891 non-null    int64  \n",
      " 3   Name         891 non-null    object \n",
      " 4   Sex          891 non-null    object \n",
      " 5   Age          714 non-null    float64\n",
      " 6   SibSp        891 non-null    int64  \n",
      " 7   Parch        891 non-null    int64  \n",
      " 8   Ticket       891 non-null    object \n",
      " 9   Fare         891 non-null    float64\n",
      " 10  Cabin        204 non-null    object \n",
      " 11  Embarked     889 non-null    object \n",
      "dtypes: float64(2), int64(5), object(5)\n",
      "memory usage: 83.7+ KB\n"
     ]
    }
   ],
   "source": [
    "print(\"\\nDataset Info:\\n\")\n",
    "data.info()"
   ]
  },
  {
   "cell_type": "code",
   "execution_count": 15,
   "id": "5f9d3863-3fe2-4400-98b3-19021516012e",
   "metadata": {},
   "outputs": [
    {
     "name": "stdout",
     "output_type": "stream",
     "text": [
      "\n",
      "Data Types:\n",
      " PassengerId      int64\n",
      "Survived         int64\n",
      "Pclass           int64\n",
      "Name            object\n",
      "Sex             object\n",
      "Age            float64\n",
      "SibSp            int64\n",
      "Parch            int64\n",
      "Ticket          object\n",
      "Fare           float64\n",
      "Cabin           object\n",
      "Embarked        object\n",
      "dtype: object\n"
     ]
    }
   ],
   "source": [
    "print(\"\\nData Types:\\n\", data.dtypes)"
   ]
  },
  {
   "cell_type": "code",
   "execution_count": 17,
   "id": "51355c20-fcb2-48d5-a941-f9606467055a",
   "metadata": {},
   "outputs": [
    {
     "name": "stdout",
     "output_type": "stream",
     "text": [
      "\n",
      "Column Names:\n",
      " Index(['PassengerId', 'Survived', 'Pclass', 'Name', 'Sex', 'Age', 'SibSp',\n",
      "       'Parch', 'Ticket', 'Fare', 'Cabin', 'Embarked'],\n",
      "      dtype='object')\n"
     ]
    }
   ],
   "source": [
    "print(\"\\nColumn Names:\\n\", data.columns)"
   ]
  },
  {
   "cell_type": "code",
   "execution_count": 19,
   "id": "31b30593-d098-4e3f-871c-b9b740fbb84c",
   "metadata": {},
   "outputs": [
    {
     "name": "stdout",
     "output_type": "stream",
     "text": [
      "\n",
      "Sex Column Value Counts:\n",
      " Sex\n",
      "male      577\n",
      "female    314\n",
      "Name: count, dtype: int64\n"
     ]
    }
   ],
   "source": [
    "print(\"\\nSex Column Value Counts:\\n\", data[\"Sex\"].value_counts())"
   ]
  },
  {
   "cell_type": "code",
   "execution_count": 21,
   "id": "84f3329c-b23d-4b4b-84e8-9f63f294dfe6",
   "metadata": {},
   "outputs": [],
   "source": [
    "def cat_to_num(value):\n",
    "    \"\"\"\n",
    "    Converts 'Sex' to numeric: 0 for female, 1 for male\n",
    "    \"\"\"\n",
    "    if value == \"male\":\n",
    "        return 1\n",
    "    elif value == \"female\":\n",
    "        return 0\n",
    "\n",
    "data[\"Sex\"] = data[\"Sex\"].apply(cat_to_num)"
   ]
  },
  {
   "cell_type": "code",
   "execution_count": 23,
   "id": "fd3b15d6-1d30-4b41-9182-2a5c5f2f5e1f",
   "metadata": {},
   "outputs": [
    {
     "name": "stdout",
     "output_type": "stream",
     "text": [
      "\n",
      "After Conversion - Sex Column Value Counts:\n",
      " Sex\n",
      "1    577\n",
      "0    314\n",
      "Name: count, dtype: int64\n"
     ]
    }
   ],
   "source": [
    "print(\"\\nAfter Conversion - Sex Column Value Counts:\\n\", data['Sex'].value_counts())"
   ]
  },
  {
   "cell_type": "code",
   "execution_count": 25,
   "id": "ee52aca9-ea25-4466-bba8-34bc81b8154b",
   "metadata": {},
   "outputs": [
    {
     "data": {
      "image/png": "[encoded data removed]",
      "text/plain": [
       "<Figure size 640x480 with 1 Axes>"
      ]
     },
     "metadata": {},
     "output_type": "display_data"
    }
   ],
   "source": [
    "sns.countplot(data=data, x='Sex', hue='Survived')\n",
    "plt.title(\"Survival Count by Sex\")\n",
    "plt.show()"
   ]
  },
  {
   "cell_type": "code",
   "execution_count": 27,
   "id": "dd0c262f-84ac-418f-bf1a-3731045e5df2",
   "metadata": {},
   "outputs": [
    {
     "name": "stdout",
     "output_type": "stream",
     "text": [
      "Sex\n",
      "0    233\n",
      "1    109\n",
      "dtype: int64\n"
     ]
    }
   ],
   "source": [
    "survived_counts = data[data['Survived'] == 1].groupby('Sex').size()\n",
    "print(survived_counts)"
   ]
  },
  {
   "cell_type": "code",
   "execution_count": 29,
   "id": "d02e1e28-9675-492d-9230-dd107f145ad3",
   "metadata": {},
   "outputs": [
    {
     "data": {
      "text/plain": [
       "PassengerId      int64\n",
       "Survived         int64\n",
       "Pclass           int64\n",
       "Name            object\n",
       "Sex              int64\n",
       "Age            float64\n",
       "SibSp            int64\n",
       "Parch            int64\n",
       "Ticket          object\n",
       "Fare           float64\n",
       "Cabin           object\n",
       "Embarked        object\n",
       "dtype: object"
      ]
     },
     "execution_count": 29,
     "metadata": {},
     "output_type": "execute_result"
    }
   ],
   "source": [
    "data.dtypes"
   ]
  },
  {
   "cell_type": "code",
   "execution_count": 31,
   "id": "899f63e7-1dc5-47f5-aee6-7f4ab10db095",
   "metadata": {},
   "outputs": [],
   "source": [
    "data['Pclass'] = data['Pclass'].astype('category')\n",
    "data['Survived'] = data['Survived'].astype('category')"
   ]
  },
  {
   "cell_type": "code",
   "execution_count": 33,
   "id": "9e28be5b-55bb-4263-8be0-7eb98f283017",
   "metadata": {},
   "outputs": [
    {
     "data": {
      "text/plain": [
       "PassengerId       int64\n",
       "Survived       category\n",
       "Pclass         category\n",
       "Name             object\n",
       "Sex               int64\n",
       "Age             float64\n",
       "SibSp             int64\n",
       "Parch             int64\n",
       "Ticket           object\n",
       "Fare            float64\n",
       "Cabin            object\n",
       "Embarked         object\n",
       "dtype: object"
      ]
     },
     "execution_count": 33,
     "metadata": {},
     "output_type": "execute_result"
    }
   ],
   "source": [
    "data.dtypes"
   ]
  },
  {
   "cell_type": "code",
   "execution_count": 37,
   "id": "0a4d5d23-a441-4aa5-9454-147c66eb17ba",
   "metadata": {},
   "outputs": [],
   "source": [
    "data['Age'] = data['Age'].fillna(data['Age'].mean())\n",
    "data['Fare'] = data['Fare'].fillna(data['Fare'].mean())"
   ]
  },
  {
   "cell_type": "code",
   "execution_count": 41,
   "id": "a31813a1-8c60-44b0-9e37-6ff090b66d89",
   "metadata": {},
   "outputs": [],
   "source": [
    "data['Age_norm'] = (data['Age'] - data['Age'].min()) / (data['Age'].max() - data['Age'].min())\n",
    "data['Fare_norm'] = (data['Fare'] - data['Fare'].min()) / (data['Fare'].max() - data['Fare'].min())"
   ]
  },
  {
   "cell_type": "code",
   "execution_count": 43,
   "id": "aa7e389d-f185-4b9f-8c83-40fea4d1b10b",
   "metadata": {},
   "outputs": [
    {
     "name": "stdout",
     "output_type": "stream",
     "text": [
      "Index(['PassengerId', 'Survived', 'Pclass', 'Name', 'Sex', 'Age', 'SibSp',\n",
      "       'Parch', 'Ticket', 'Fare', 'Cabin', 'Embarked', 'Age_norm',\n",
      "       'Fare_norm'],\n",
      "      dtype='object')\n"
     ]
    }
   ],
   "source": [
    "print(data.columns)"
   ]
  },
  {
   "cell_type": "code",
   "execution_count": 45,
   "id": "925f11ee-b04e-4c31-bb76-61d8ec381291",
   "metadata": {},
   "outputs": [
    {
     "name": "stdout",
     "output_type": "stream",
     "text": [
      "   PassengerId Survived Pclass  \\\n",
      "0            1        0      3   \n",
      "1            2        1      1   \n",
      "2            3        1      3   \n",
      "3            4        1      1   \n",
      "4            5        0      3   \n",
      "\n",
      "                                                Name  Sex   Age  SibSp  Parch  \\\n",
      "0                            Braund, Mr. Owen Harris    1  22.0      1      0   \n",
      "1  Cumings, Mrs. John Bradley (Florence Briggs Th...    0  38.0      1      0   \n",
      "2                             Heikkinen, Miss. Laina    0  26.0      0      0   \n",
      "3       Futrelle, Mrs. Jacques Heath (Lily May Peel)    0  35.0      1      0   \n",
      "4                           Allen, Mr. William Henry    1  35.0      0      0   \n",
      "\n",
      "             Ticket     Fare Cabin Embarked  Age_norm  Fare_norm  \n",
      "0         A/5 21171   7.2500   NaN        S  0.271174   0.014151  \n",
      "1          PC 17599  71.2833   C85        C  0.472229   0.139136  \n",
      "2  STON/O2. 3101282   7.9250   NaN        S  0.321438   0.015469  \n",
      "3            113803  53.1000  C123        S  0.434531   0.103644  \n",
      "4            373450   8.0500   NaN        S  0.434531   0.015713  \n"
     ]
    }
   ],
   "source": [
    "print(data.head())"
   ]
  },
  {
   "cell_type": "code",
   "execution_count": 47,
   "id": "da7ab481-d769-497b-8d64-3dcd25340083",
   "metadata": {},
   "outputs": [
    {
     "name": "stdout",
     "output_type": "stream",
     "text": [
      "     PassengerId Survived Pclass                                      Name  \\\n",
      "886          887        0      2                     Montvila, Rev. Juozas   \n",
      "887          888        1      1              Graham, Miss. Margaret Edith   \n",
      "888          889        0      3  Johnston, Miss. Catherine Helen \"Carrie\"   \n",
      "889          890        1      1                     Behr, Mr. Karl Howell   \n",
      "890          891        0      3                       Dooley, Mr. Patrick   \n",
      "\n",
      "     Sex        Age  SibSp  Parch      Ticket   Fare Cabin Embarked  Age_norm  \\\n",
      "886    1  27.000000      0      0      211536  13.00   NaN        S  0.334004   \n",
      "887    0  19.000000      0      0      112053  30.00   B42        S  0.233476   \n",
      "888    0  29.699118      1      2  W./C. 6607  23.45   NaN        S  0.367921   \n",
      "889    1  26.000000      0      0      111369  30.00  C148        C  0.321438   \n",
      "890    1  32.000000      0      0      370376   7.75   NaN        Q  0.396833   \n",
      "\n",
      "     Fare_norm  \n",
      "886   0.025374  \n",
      "887   0.058556  \n",
      "888   0.045771  \n",
      "889   0.058556  \n",
      "890   0.015127  \n"
     ]
    }
   ],
   "source": [
    "print(data.tail())"
   ]
  },
  {
   "cell_type": "code",
   "execution_count": 49,
   "id": "6687c833-a8ea-45ba-9e37-dade0906599e",
   "metadata": {},
   "outputs": [
    {
     "name": "stdout",
     "output_type": "stream",
     "text": [
      "\n",
      "Normalized Age and Fare Columns:\n",
      "    Age_norm  Fare_norm\n",
      "0  0.271174   0.014151\n",
      "1  0.472229   0.139136\n",
      "2  0.321438   0.015469\n",
      "3  0.434531   0.103644\n",
      "4  0.434531   0.015713\n"
     ]
    }
   ],
   "source": [
    "print(\"\\nNormalized Age and Fare Columns:\\n\", data[['Age_norm', 'Fare_norm']].head())"
   ]
  },
  {
   "cell_type": "code",
   "execution_count": null,
   "id": "f1d91e93-253d-4665-86fa-19a1cb354488",
   "metadata": {},
   "outputs": [],
   "source": []
  }
 ],
 "metadata": {
  "kernelspec": {
   "display_name": "Python [conda env:base] *",
   "language": "python",
   "name": "conda-base-py"
  },
  "language_info": {
   "codemirror_mode": {
    "name": "ipython",
    "version": 3
   },
   "file_extension": ".py",
   "mimetype": "text/x-python",
   "name": "python",
   "nbconvert_exporter": "python",
   "pygments_lexer": "ipython3",
   "version": "3.12.7"
  }
 },
 "nbformat": 4,
 "nbformat_minor": 5
}
