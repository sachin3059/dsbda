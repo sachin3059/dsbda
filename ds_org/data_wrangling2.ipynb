{
 "cells": [
  {
   "cell_type": "code",
   "execution_count": 5,
   "id": "23f12d0f-8103-4673-95a9-eb5918d107b3",
   "metadata": {},
   "outputs": [],
   "source": [
    "import pandas as pd\n",
    "import numpy as np\n",
    "import matplotlib.pyplot as plt\n",
    "import seaborn as sns\n",
    "from scipy.stats import zscore"
   ]
  },
  {
   "cell_type": "code",
   "execution_count": 7,
   "id": "be493902-ffbf-462c-9218-c617f6f8bc85",
   "metadata": {},
   "outputs": [],
   "source": [
    "data = {\n",
    "    'name': pd.Series(['Aadit', 'Abhinash', 'Abhinav', 'Adarsh', 'Aditya', 'Gaurav', 'Gulshan', 'Lokendra', 'Krishan', 'Mahindra', 'Priyanshu', 'Sachin', 'Sahil', 'Suraj', 'Shashank']),\n",
    "    'batch': pd.Series(['T4', 'T4', 'T4', 'T4', 'T4', 'T5', 'T5', 'T5', 'T5', 'T5', 'T6', 'T6', 'T6', 'T6', 'T6']),\n",
    "    'marks1': pd.Series([45, 54, 48, np.nan, 56, 45, 48, 52, 54, 50, 49, 46, 48, 49, 50]),\n",
    "    'marks2': pd.Series([45, 54, 48, 49, 56, 45, np.nan, 52, 54, 50, 49, 46, 48, 49, 50]),\n",
    "    'marks3': pd.Series([45, 54, 48, 49, 56, 45, 35, 52, 54, 50, 49, 46, np.nan, 49, 50])\n",
    "}\n",
    "\n",
    "df = pd.DataFrame(data);"
   ]
  },
  {
   "cell_type": "code",
   "execution_count": 9,
   "id": "f957d35c-1748-4dcd-8420-1191df6f7d67",
   "metadata": {},
   "outputs": [
    {
     "name": "stdout",
     "output_type": "stream",
     "text": [
      "Index(['name', 'batch', 'marks1', 'marks2', 'marks3'], dtype='object')\n"
     ]
    }
   ],
   "source": [
    "print(df.columns);"
   ]
  },
  {
   "cell_type": "code",
   "execution_count": 11,
   "id": "fc33b6d9-3ec1-46c7-984b-099c7c5a72b2",
   "metadata": {},
   "outputs": [
    {
     "name": "stdout",
     "output_type": "stream",
     "text": [
      "       name batch  marks1  marks2  marks3\n",
      "0     Aadit    T4    45.0    45.0    45.0\n",
      "1  Abhinash    T4    54.0    54.0    54.0\n",
      "2   Abhinav    T4    48.0    48.0    48.0\n",
      "3    Adarsh    T4     NaN    49.0    49.0\n",
      "4    Aditya    T4    56.0    56.0    56.0\n"
     ]
    }
   ],
   "source": [
    "print(df.head());"
   ]
  },
  {
   "cell_type": "code",
   "execution_count": 13,
   "id": "50564b6e-4657-470a-8dca-fb93b92678d4",
   "metadata": {},
   "outputs": [
    {
     "name": "stdout",
     "output_type": "stream",
     "text": [
      "         name batch  marks1  marks2  marks3\n",
      "10  Priyanshu    T6    49.0    49.0    49.0\n",
      "11     Sachin    T6    46.0    46.0    46.0\n",
      "12      Sahil    T6    48.0    48.0     NaN\n",
      "13      Suraj    T6    49.0    49.0    49.0\n",
      "14   Shashank    T6    50.0    50.0    50.0\n"
     ]
    }
   ],
   "source": [
    "print(df.tail());"
   ]
  },
  {
   "cell_type": "code",
   "execution_count": 15,
   "id": "38001f23-acc8-4921-ac67-56690dc05e0e",
   "metadata": {},
   "outputs": [
    {
     "name": "stdout",
     "output_type": "stream",
     "text": [
      "name       object\n",
      "batch      object\n",
      "marks1    float64\n",
      "marks2    float64\n",
      "marks3    float64\n",
      "dtype: object\n"
     ]
    }
   ],
   "source": [
    "print(df.dtypes);"
   ]
  },
  {
   "cell_type": "code",
   "execution_count": 17,
   "id": "d986f15d-f6e6-47b8-92f9-b78947fe429a",
   "metadata": {},
   "outputs": [],
   "source": [
    "df.describe();"
   ]
  },
  {
   "cell_type": "code",
   "execution_count": 19,
   "id": "b85c54c6-f6b5-49d3-99b4-5c030e690376",
   "metadata": {},
   "outputs": [
    {
     "name": "stdout",
     "output_type": "stream",
     "text": [
      "          marks1     marks2     marks3\n",
      "count  14.000000  14.000000  14.000000\n",
      "mean   49.571429  49.642857  48.714286\n",
      "std     3.390355   3.365141   5.165396\n",
      "min    45.000000  45.000000  35.000000\n",
      "25%    48.000000  48.000000  46.500000\n",
      "50%    49.000000  49.000000  49.000000\n",
      "75%    51.500000  51.500000  51.500000\n",
      "max    56.000000  56.000000  56.000000\n"
     ]
    }
   ],
   "source": [
    "print(df.describe());"
   ]
  },
  {
   "cell_type": "code",
   "execution_count": 21,
   "id": "b5f27815-ebef-45a1-a568-ba7ccff1ff28",
   "metadata": {},
   "outputs": [
    {
     "name": "stdout",
     "output_type": "stream",
     "text": [
      "<class 'pandas.core.frame.DataFrame'>\n",
      "RangeIndex: 15 entries, 0 to 14\n",
      "Data columns (total 5 columns):\n",
      " #   Column  Non-Null Count  Dtype  \n",
      "---  ------  --------------  -----  \n",
      " 0   name    15 non-null     object \n",
      " 1   batch   15 non-null     object \n",
      " 2   marks1  14 non-null     float64\n",
      " 3   marks2  14 non-null     float64\n",
      " 4   marks3  14 non-null     float64\n",
      "dtypes: float64(3), object(2)\n",
      "memory usage: 732.0+ bytes\n",
      "None\n"
     ]
    }
   ],
   "source": [
    "print(df.info());"
   ]
  },
  {
   "cell_type": "code",
   "execution_count": 23,
   "id": "b1b5ca61-9559-4f1e-9347-f04a75c8c712",
   "metadata": {},
   "outputs": [
    {
     "name": "stdout",
     "output_type": "stream",
     "text": [
      "Missing values:\n",
      " name      0\n",
      "batch     0\n",
      "marks1    1\n",
      "marks2    1\n",
      "marks3    1\n",
      "dtype: int64\n"
     ]
    }
   ],
   "source": [
    "print(\"Missing values:\\n\", df.isnull().sum())"
   ]
  },
  {
   "cell_type": "code",
   "execution_count": 25,
   "id": "1ef3eddd-ac8e-4c9e-8975-f9baabfa4c92",
   "metadata": {},
   "outputs": [
    {
     "data": {
      "text/plain": [
       "0     45.000000\n",
       "1     54.000000\n",
       "2     48.000000\n",
       "3     49.571429\n",
       "4     56.000000\n",
       "5     45.000000\n",
       "6     48.000000\n",
       "7     52.000000\n",
       "8     54.000000\n",
       "9     50.000000\n",
       "10    49.000000\n",
       "11    46.000000\n",
       "12    48.000000\n",
       "13    49.000000\n",
       "14    50.000000\n",
       "Name: marks1, dtype: float64"
      ]
     },
     "execution_count": 25,
     "metadata": {},
     "output_type": "execute_result"
    }
   ],
   "source": [
    "df['marks1'].fillna(df['marks1'].mean())"
   ]
  },
  {
   "cell_type": "code",
   "execution_count": 27,
   "id": "2f2afc2b-0d3b-4cec-8846-ba532fe71c84",
   "metadata": {},
   "outputs": [
    {
     "name": "stdout",
     "output_type": "stream",
     "text": [
      "Missing values:\n",
      " name      0\n",
      "batch     0\n",
      "marks1    1\n",
      "marks2    1\n",
      "marks3    1\n",
      "dtype: int64\n"
     ]
    }
   ],
   "source": [
    "print(\"Missing values:\\n\", df.isnull().sum())"
   ]
  },
  {
   "cell_type": "code",
   "execution_count": 31,
   "id": "bb0cc36b-eda0-44dc-80ef-aacc3bee64a7",
   "metadata": {},
   "outputs": [
    {
     "data": {
      "text/plain": [
       "0     45.000000\n",
       "1     54.000000\n",
       "2     48.000000\n",
       "3     49.000000\n",
       "4     56.000000\n",
       "5     45.000000\n",
       "6     35.000000\n",
       "7     52.000000\n",
       "8     54.000000\n",
       "9     50.000000\n",
       "10    49.000000\n",
       "11    46.000000\n",
       "12    48.714286\n",
       "13    49.000000\n",
       "14    50.000000\n",
       "Name: marks3, dtype: float64"
      ]
     },
     "execution_count": 31,
     "metadata": {},
     "output_type": "execute_result"
    }
   ],
   "source": [
    "df['marks1'].fillna(df['marks1'].mean())\n",
    "df['marks2'].fillna(df['marks2'].mean())\n",
    "df['marks3'].fillna(df['marks3'].mean())"
   ]
  },
  {
   "cell_type": "code",
   "execution_count": 33,
   "id": "7c376395-c2cb-4fae-8f2b-8c9d65fa5d7f",
   "metadata": {},
   "outputs": [
    {
     "name": "stdout",
     "output_type": "stream",
     "text": [
      "       name batch     marks1  marks2  marks3\n",
      "0     Aadit    T4  45.000000    45.0    45.0\n",
      "1  Abhinash    T4  54.000000    54.0    54.0\n",
      "2   Abhinav    T4  48.000000    48.0    48.0\n",
      "3    Adarsh    T4  49.571429    49.0    49.0\n",
      "4    Aditya    T4  56.000000    56.0    56.0\n"
     ]
    }
   ],
   "source": [
    "print(df.head());"
   ]
  },
  {
   "cell_type": "code",
   "execution_count": 35,
   "id": "d7e47b47-4390-4efb-be13-97ed484cd500",
   "metadata": {},
   "outputs": [
    {
     "name": "stdout",
     "output_type": "stream",
     "text": [
      "Missing values:\n",
      " name      0\n",
      "batch     0\n",
      "marks1    0\n",
      "marks2    0\n",
      "marks3    0\n",
      "dtype: int64\n"
     ]
    }
   ],
   "source": [
    "print(\"Missing values:\\n\", df.isnull().sum())"
   ]
  },
  {
   "cell_type": "code",
   "execution_count": 39,
   "id": "61d7ed7f-4dc1-4fb8-8c4e-79e7df20ed8b",
   "metadata": {},
   "outputs": [],
   "source": [
    "def detect_outliers_iqr(column):\n",
    "    Q1 = column.quantile(0.25)\n",
    "    Q3 = column.quantile(0.75)\n",
    "    IQR = Q3 - Q1\n",
    "    lower_bound = Q1 - 1.5 * IQR\n",
    "    upper_bound = Q3 + 1.5 * IQR\n",
    "    return column[(column < lower_bound) | (column > upper_bound) ]\n",
    "    "
   ]
  },
  {
   "cell_type": "code",
   "execution_count": 41,
   "id": "63212cc4-a28b-4c38-877a-e7212b9dac01",
   "metadata": {},
   "outputs": [],
   "source": [
    "outliers_marks1 = detect_outliers_iqr(df['marks1'])\n",
    "outliers_marks2 = detect_outliers_iqr(df['marks2'])\n",
    "outliers_marks3 = detect_outliers_iqr(df['marks3'])"
   ]
  },
  {
   "cell_type": "code",
   "execution_count": 43,
   "id": "9f540331-9140-4816-a4e7-ad1dab2f2b28",
   "metadata": {},
   "outputs": [
    {
     "name": "stdout",
     "output_type": "stream",
     "text": [
      "\n",
      "Outliers in marks1:\n",
      " 4    56.0\n",
      "Name: marks1, dtype: float64\n",
      "\n",
      "Outliers in marks2:\n",
      " 4    56.0\n",
      "Name: marks2, dtype: float64\n",
      "\n",
      "Outliers in marks3:\n",
      " 6    35.0\n",
      "Name: marks3, dtype: float64\n"
     ]
    }
   ],
   "source": [
    "print(\"\\nOutliers in marks1:\\n\", outliers_marks1)\n",
    "print(\"\\nOutliers in marks2:\\n\", outliers_marks2)\n",
    "print(\"\\nOutliers in marks3:\\n\", outliers_marks3)"
   ]
  },
  {
   "cell_type": "code",
   "execution_count": 45,
   "id": "ed5ca890-9ac6-4279-905c-abb17a16101a",
   "metadata": {},
   "outputs": [],
   "source": [
    "def cap_outliers(series):\n",
    "    Q1 = series.quantile(0.25)\n",
    "    Q3 = series.quantile(0.75)\n",
    "    IQR = Q3 - Q1\n",
    "    lower = Q1 - 1.5 * IQR\n",
    "    upper = Q3 + 1.5 * IQR\n",
    "    return np.where(series < lower, lower, np.where(series > upper, upper, series))"
   ]
  },
  {
   "cell_type": "code",
   "execution_count": 47,
   "id": "248d9af7-213b-47d0-b66a-30a31fbf7831",
   "metadata": {},
   "outputs": [],
   "source": [
    "df['marks1'] = cap_outliers(df['marks1'])\n",
    "df['marks2'] = cap_outliers(df['marks2'])\n",
    "df['marks3'] = cap_outliers(df['marks3'])"
   ]
  },
  {
   "cell_type": "code",
   "execution_count": 49,
   "id": "5351b7b3-f488-492b-8eb5-5552b030cf47",
   "metadata": {},
   "outputs": [
    {
     "name": "stdout",
     "output_type": "stream",
     "text": [
      "Skewness before transformation: -0.16341341056093064\n"
     ]
    }
   ],
   "source": [
    "print(\"Skewness before transformation:\", df['marks3'].skew())"
   ]
  },
  {
   "cell_type": "code",
   "execution_count": 51,
   "id": "5b4c9249-ba32-4cc6-b91c-f87ad2bf56bc",
   "metadata": {},
   "outputs": [
    {
     "data": {
      "image/png": "[encoded data removed]",
      "text/plain": [
       "<Figure size 640x480 with 1 Axes>"
      ]
     },
     "metadata": {},
     "output_type": "display_data"
    }
   ],
   "source": [
    "sns.histplot(df['marks3'], kde=True)\n",
    "plt.title(\"Distribution of marks3 - Before Log Transformation\")\n",
    "plt.show()"
   ]
  },
  {
   "cell_type": "code",
   "execution_count": 53,
   "id": "de71abad-25f6-412b-93d7-3e4cd38abbb1",
   "metadata": {},
   "outputs": [],
   "source": [
    "df['log_marks3'] = np.log(df['marks3'] + 1)"
   ]
  },
  {
   "cell_type": "code",
   "execution_count": 55,
   "id": "e10f6728-135c-4121-8dfb-9b7ddbb6364b",
   "metadata": {},
   "outputs": [
    {
     "name": "stdout",
     "output_type": "stream",
     "text": [
      "Skewness after transformation: -0.3872295243791056\n"
     ]
    }
   ],
   "source": [
    "print(\"Skewness after transformation:\", df['log_marks3'].skew())"
   ]
  },
  {
   "cell_type": "code",
   "execution_count": 57,
   "id": "7cff41ac-9cb3-4628-9b0e-2fb3f861d55f",
   "metadata": {},
   "outputs": [
    {
     "data": {
      "image/png": "[encoded data removed]",
      "text/plain": [
       "<Figure size 640x480 with 1 Axes>"
      ]
     },
     "metadata": {},
     "output_type": "display_data"
    }
   ],
   "source": [
    "sns.histplot(df['log_marks3'], kde=True, color='green')\n",
    "plt.title(\"Distribution of marks3 - After Log Transformation\")\n",
    "plt.show()"
   ]
  },
  {
   "cell_type": "code",
   "execution_count": null,
   "id": "af8674b3-3774-46dc-99f4-f0633d9f6d37",
   "metadata": {},
   "outputs": [],
   "source": []
  }
 ],
 "metadata": {
  "kernelspec": {
   "display_name": "Python [conda env:base] *",
   "language": "python",
   "name": "conda-base-py"
  },
  "language_info": {
   "codemirror_mode": {
    "name": "ipython",
    "version": 3
   },
   "file_extension": ".py",
   "mimetype": "text/x-python",
   "name": "python",
   "nbconvert_exporter": "python",
   "pygments_lexer": "ipython3",
   "version": "3.12.7"
  }
 },
 "nbformat": 4,
 "nbformat_minor": 5
}
