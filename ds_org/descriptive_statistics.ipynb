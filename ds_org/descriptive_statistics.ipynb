{
 "cells": [
  {
   "cell_type": "code",
   "execution_count": 1,
   "id": "b9137795-c5fe-4977-a979-b526d7b67564",
   "metadata": {},
   "outputs": [],
   "source": [
    "import pandas as pd"
   ]
  },
  {
   "cell_type": "code",
   "execution_count": 3,
   "id": "21894b7a-e52d-4812-920e-c3805c22f1e9",
   "metadata": {},
   "outputs": [],
   "source": [
    "data = {\n",
    "    'Name': [\n",
    "        'Zane', 'Cathy', 'Leo', 'Mona', 'Alice', 'David', 'Grace', 'Nate', 'Ben', 'Olivia',\n",
    "        'Bob', 'Victor', 'Quinn', 'Xander', 'Ella', 'Paul', 'Frank', 'Kate', 'Wendy', 'Henry',\n",
    "        'Jack', 'Tina', 'Sam', 'Ivy', 'Cara', 'Rita', 'Yara', 'Dan', 'Uma', 'Abby'\n",
    "    ],\n",
    "    'Age': [\n",
    "        42, 21, 30, 28, 22, 25, 20, 26, 44, 33,\n",
    "        24, 40, 29, 41, 23, 31, 19, 30, 38, 22,\n",
    "        21, 30, 34, 24, 43, 32, 39, 45, 36, 19\n",
    "    ],\n",
    "    'Income': [\n",
    "        62500, 33000, 47000, 50000, 32000, 35000, 34000, 46000, 61500, 49000,\n",
    "        31000, 63000, 52000, 60000, 30000, 51000, 29000, 47000, 61000, 36000,\n",
    "        30000, 48500, 47000, 31000, 63500, 49500, 64000, 64500, 62000, 29000\n",
    "    ]\n",
    "}"
   ]
  },
  {
   "cell_type": "code",
   "execution_count": 5,
   "id": "37d14c5c-cb9d-4641-bbf5-dc28de80cf12",
   "metadata": {},
   "outputs": [],
   "source": [
    "df = pd.DataFrame(data)"
   ]
  },
  {
   "cell_type": "code",
   "execution_count": 7,
   "id": "43f1a536-d50a-49cf-aebf-b630c659edaf",
   "metadata": {},
   "outputs": [
    {
     "name": "stdout",
     "output_type": "stream",
     "text": [
      "Index(['Name', 'Age', 'Income'], dtype='object')\n"
     ]
    }
   ],
   "source": [
    "print(df.columns);"
   ]
  },
  {
   "cell_type": "code",
   "execution_count": 9,
   "id": "ee0907d9-6229-4ba1-a743-3b6fd3851777",
   "metadata": {},
   "outputs": [
    {
     "name": "stdout",
     "output_type": "stream",
     "text": [
      "    Name  Age  Income\n",
      "0   Zane   42   62500\n",
      "1  Cathy   21   33000\n",
      "2    Leo   30   47000\n",
      "3   Mona   28   50000\n",
      "4  Alice   22   32000\n"
     ]
    }
   ],
   "source": [
    "print(df.head());"
   ]
  },
  {
   "cell_type": "code",
   "execution_count": 15,
   "id": "999ecb2c-df44-4a59-bfe3-993d1073e3a5",
   "metadata": {},
   "outputs": [],
   "source": [
    "bins = [17, 25, 35, 45]\n",
    "labels = ['18-25', '26-35', '36-45']\n",
    "df['Age_Group'] = pd.cut(df['Age'], bins=bins, labels=labels)"
   ]
  },
  {
   "cell_type": "code",
   "execution_count": 17,
   "id": "4cf8175a-edff-4c81-815f-4dfbd438a33e",
   "metadata": {},
   "outputs": [
    {
     "name": "stdout",
     "output_type": "stream",
     "text": [
      "Index(['Name', 'Age', 'Income', 'Age_Group'], dtype='object')\n"
     ]
    }
   ],
   "source": [
    "print(df.columns);"
   ]
  },
  {
   "cell_type": "code",
   "execution_count": 19,
   "id": "f52cdd12-40ef-4acc-a72d-f5538d9eb09d",
   "metadata": {},
   "outputs": [
    {
     "name": "stdout",
     "output_type": "stream",
     "text": [
      "=== Summary Statistics (Grouped by Age Range) ===\n",
      "                   mean   median    min    max          std\n",
      "Age_Group                                                  \n",
      "18-25      31818.181818  31000.0  29000  36000  2400.757456\n",
      "26-35      48700.000000  48750.0  46000  52000  1960.725489\n",
      "36-45      62444.444444  62500.0  60000  64500  1467.234738\n"
     ]
    }
   ],
   "source": [
    "grouped = df.groupby('Age_Group', observed=True)['Income'].agg(['mean', 'median', 'min', 'max', 'std'])\n",
    "print(\"=== Summary Statistics (Grouped by Age Range) ===\")\n",
    "print(grouped)"
   ]
  },
  {
   "cell_type": "code",
   "execution_count": 21,
   "id": "5b952da1-2f40-4443-a909-6439b43c785e",
   "metadata": {},
   "outputs": [],
   "source": [
    "ds = pd.read_csv('iris.csv')"
   ]
  },
  {
   "cell_type": "code",
   "execution_count": 23,
   "id": "11233b32-cbf2-4013-ab25-2b4b372793a9",
   "metadata": {},
   "outputs": [
    {
     "name": "stdout",
     "output_type": "stream",
     "text": [
      "   Id  SepalLengthCm  SepalWidthCm  PetalLengthCm  PetalWidthCm      Species\n",
      "0   1            5.1           3.5            1.4           0.2  Iris-setosa\n",
      "1   2            4.9           3.0            1.4           0.2  Iris-setosa\n",
      "2   3            4.7           3.2            1.3           0.2  Iris-setosa\n",
      "3   4            4.6           3.1            1.5           0.2  Iris-setosa\n",
      "4   5            5.0           3.6            1.4           0.2  Iris-setosa\n"
     ]
    }
   ],
   "source": [
    "print(ds.head());"
   ]
  },
  {
   "cell_type": "code",
   "execution_count": 25,
   "id": "4850d947-babd-4781-a261-28d8c0a6075c",
   "metadata": {},
   "outputs": [],
   "source": [
    "grouped_stats = ds.groupby('Species').agg({\n",
    "    'SepalLengthCm': ['mean', 'median', 'min', 'max', 'std'],\n",
    "    'SepalWidthCm': ['mean', 'median', 'min', 'max', 'std'],\n",
    "    'PetalLengthCm': ['mean', 'median', 'min', 'max', 'std'],\n",
    "    'PetalWidthCm': ['mean', 'median', 'min', 'max', 'std'],\n",
    "})"
   ]
  },
  {
   "cell_type": "code",
   "execution_count": 27,
   "id": "bce1b0d5-62ca-403e-a961-796742e37ca5",
   "metadata": {},
   "outputs": [
    {
     "name": "stdout",
     "output_type": "stream",
     "text": [
      "Index(['Id', 'SepalLengthCm', 'SepalWidthCm', 'PetalLengthCm', 'PetalWidthCm',\n",
      "       'Species'],\n",
      "      dtype='object')\n"
     ]
    }
   ],
   "source": [
    "print(ds.columns);"
   ]
  },
  {
   "cell_type": "code",
   "execution_count": 29,
   "id": "f2af36e6-6949-4cc4-81db-fe6fe981c92d",
   "metadata": {},
   "outputs": [
    {
     "name": "stdout",
     "output_type": "stream",
     "text": [
      "                SepalLengthCm                            SepalWidthCm         \\\n",
      "                         mean median  min  max       std         mean median   \n",
      "Species                                                                        \n",
      "Iris-setosa             5.006    5.0  4.3  5.8  0.352490        3.418    3.4   \n",
      "Iris-versicolor         5.936    5.9  4.9  7.0  0.516171        2.770    2.8   \n",
      "Iris-virginica          6.588    6.5  4.9  7.9  0.635880        2.974    3.0   \n",
      "\n",
      "                                    PetalLengthCm                             \\\n",
      "                 min  max       std          mean median  min  max       std   \n",
      "Species                                                                        \n",
      "Iris-setosa      2.3  4.4  0.381024         1.464   1.50  1.0  1.9  0.173511   \n",
      "Iris-versicolor  2.0  3.4  0.313798         4.260   4.35  3.0  5.1  0.469911   \n",
      "Iris-virginica   2.2  3.8  0.322497         5.552   5.55  4.5  6.9  0.551895   \n",
      "\n",
      "                PetalWidthCm                             \n",
      "                        mean median  min  max       std  \n",
      "Species                                                  \n",
      "Iris-setosa            0.244    0.2  0.1  0.6  0.107210  \n",
      "Iris-versicolor        1.326    1.3  1.0  1.8  0.197753  \n",
      "Iris-virginica         2.026    2.0  1.4  2.5  0.274650  \n"
     ]
    }
   ],
   "source": [
    "print(grouped_stats)"
   ]
  },
  {
   "cell_type": "code",
   "execution_count": 31,
   "id": "b3ee9229-e615-463b-adb7-638db2b022dc",
   "metadata": {},
   "outputs": [],
   "source": [
    "species_numeric_list = {\n",
    "    species: group['SepalLengthCm'].tolist()\n",
    "    for species, group in ds.groupby('Species')\n",
    "}"
   ]
  },
  {
   "cell_type": "code",
   "execution_count": 33,
   "id": "fc4ea9d1-7d52-45a3-84ae-a1d92a3d3a23",
   "metadata": {},
   "outputs": [
    {
     "name": "stdout",
     "output_type": "stream",
     "text": [
      "Iris-setosa: [5.1, 4.9, 4.7, 4.6, 5.0]...\n",
      "Iris-versicolor: [7.0, 6.4, 6.9, 5.5, 6.5]...\n",
      "Iris-virginica: [6.3, 5.8, 7.1, 6.3, 6.5]...\n"
     ]
    }
   ],
   "source": [
    "for species, values in species_numeric_list.items():\n",
    "    print(f\"{species}: {values[:5]}...\")"
   ]
  },
  {
   "cell_type": "code",
   "execution_count": 35,
   "id": "a6369e94-2aa3-4beb-b0c3-0016d2671cc2",
   "metadata": {},
   "outputs": [],
   "source": [
    "def basic_statistics(group):\n",
    "    return {\n",
    "        'Mean': group.mean(),\n",
    "        'Standard Deviation': group.std(),\n",
    "        '25th Percentile': group.quantile(.25),\n",
    "        '50th Percentile': group.median(),\n",
    "        '75th Percentile': group.quantile(.75),\n",
    "        'Minimum': group.min(),\n",
    "        'Maximum': group.max()\n",
    "    }"
   ]
  },
  {
   "cell_type": "code",
   "execution_count": 37,
   "id": "a827608d-df63-4be6-92fb-96715142c4c6",
   "metadata": {},
   "outputs": [],
   "source": [
    "setosa_stats = basic_statistics(ds[ds['Species'] == 'Iris-setosa']['SepalLengthCm'])\n",
    "versicolor_stats = basic_statistics(ds[ds['Species'] == 'Iris-versicolor']['SepalLengthCm'])\n",
    "virginica_stats = basic_statistics(ds[ds['Species'] == 'Iris-virginica']['SepalLengthCm'])"
   ]
  },
  {
   "cell_type": "code",
   "execution_count": 39,
   "id": "bc952fb6-f891-442d-8eaf-9cafe5799f66",
   "metadata": {},
   "outputs": [
    {
     "name": "stdout",
     "output_type": "stream",
     "text": [
      "\n",
      "=== Statistics for Iris-setosa ===\n",
      "{'Mean': 5.006, 'Standard Deviation': 0.3524896872134512, '25th Percentile': 4.8, '50th Percentile': 5.0, '75th Percentile': 5.2, 'Minimum': 4.3, 'Maximum': 5.8}\n",
      "\n",
      "=== Statistics for Iris-versicolor ===\n",
      "{'Mean': 5.936, 'Standard Deviation': 0.5161711470638635, '25th Percentile': 5.6, '50th Percentile': 5.9, '75th Percentile': 6.3, 'Minimum': 4.9, 'Maximum': 7.0}\n",
      "\n",
      "=== Statistics for Iris-virginica ===\n",
      "{'Mean': 6.587999999999998, 'Standard Deviation': 0.635879593274432, '25th Percentile': 6.225, '50th Percentile': 6.5, '75th Percentile': 6.9, 'Minimum': 4.9, 'Maximum': 7.9}\n"
     ]
    }
   ],
   "source": [
    "print(\"\\n=== Statistics for Iris-setosa ===\")\n",
    "print(setosa_stats)\n",
    "print(\"\\n=== Statistics for Iris-versicolor ===\")\n",
    "print(versicolor_stats)\n",
    "print(\"\\n=== Statistics for Iris-virginica ===\")\n",
    "print(virginica_stats)"
   ]
  },
  {
   "cell_type": "code",
   "execution_count": null,
   "id": "3635a211-4b72-4153-be73-ec9c8b28a6ed",
   "metadata": {},
   "outputs": [],
   "source": []
  }
 ],
 "metadata": {
  "kernelspec": {
   "display_name": "Python [conda env:base] *",
   "language": "python",
   "name": "conda-base-py"
  },
  "language_info": {
   "codemirror_mode": {
    "name": "ipython",
    "version": 3
   },
   "file_extension": ".py",
   "mimetype": "text/x-python",
   "name": "python",
   "nbconvert_exporter": "python",
   "pygments_lexer": "ipython3",
   "version": "3.12.7"
  }
 },
 "nbformat": 4,
 "nbformat_minor": 5
}
